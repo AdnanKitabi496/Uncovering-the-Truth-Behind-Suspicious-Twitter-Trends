{
 "cells": [
  {
   "cell_type": "code",
   "execution_count": 1,
   "metadata": {},
   "outputs": [
    {
     "name": "stdout",
     "output_type": "stream",
     "text": [
      "       Unnamed: 0      conversation_id       child_tweet_id  \\\n",
      "0               0  1481291399463161858  1482790924287713292   \n",
      "1               1  1481291399463161858  1482356451511353350   \n",
      "2               2  1481291399463161858  1409747398058971136   \n",
      "3               3  1481291399463161858  1481714471852777473   \n",
      "4               4  1481291399463161858   716142262661480448   \n",
      "...           ...                  ...                  ...   \n",
      "19409         804  1482971315795636224  1465594987102494721   \n",
      "19410         805  1482971315795636224  1354626868478148616   \n",
      "19411         806  1482971315795636224  1012479602172801024   \n",
      "19412         807  1482971315795636224  1012479602172801024   \n",
      "19413         808  1482971315795636224  1460949670088384513   \n",
      "\n",
      "                                              tweet_text      Screen_Name  \n",
      "0      @WatcherGuru 🚀SUCCESSFUL LAUNCH OF $IWR COIN🚀\\...       EmreSecmez  \n",
      "1      @WatcherGuru $ MANAを賭けて、vEmpireDDAOの$ VEMPトークン...     fukuda_hyuga  \n",
      "2      @WatcherGuru $ AXSを賭けて、vEmpireDDAOの$ VEMPトークンで...     Danu41619208  \n",
      "3             @WatcherGuru $VET and $NWC my great jewels       CrazyMo208  \n",
      "4      @WatcherGuru @GloryDogeCoin\\nA revolutionary I...     cahbolang004  \n",
      "...                                                  ...              ...  \n",
      "19409  @WatcherGuru Result on my page 💸 https://t.co/...     johnbtcgrant  \n",
      "19410                            @WatcherGuru Safemoonoi  AlexGeo33869150  \n",
      "19411      @WatcherGuru go go go https://t.co/MLolZ6kkAB      CecyliaNera  \n",
      "19412      @WatcherGuru go go go https://t.co/TEjrjpuyUi      CecyliaNera  \n",
      "19413  @WatcherGuru #bluesparrow will take over the w...  mohammadali1357  \n",
      "\n",
      "[19414 rows x 5 columns]\n"
     ]
    }
   ],
   "source": [
    "import pandas as pd\n",
    "import glob\n",
    "import os\n",
    "  \n",
    "# merging the files\n",
    "joined_files = os.path.join(\"C:/Users/91709/Downloads/Work/UpWork/Himanshu/replies\", \"*.csv\")\n",
    "  \n",
    "# A list of all joined files is returned\n",
    "joined_list = glob.glob(joined_files)\n",
    "  \n",
    "# Finally, the files are joined\n",
    "df = pd.concat(map(pd.read_csv, joined_list), ignore_index=True)\n"
   ]
  },
  {
   "cell_type": "code",
   "execution_count": 5,
   "metadata": {},
   "outputs": [],
   "source": [
    "df['count'] = 1\n",
    "df_users = df[['Screen_Name', 'count']]"
   ]
  },
  {
   "cell_type": "code",
   "execution_count": 9,
   "metadata": {},
   "outputs": [],
   "source": [
    "unique_users = df_users.groupby(['Screen_Name']).sum().reset_index()"
   ]
  },
  {
   "cell_type": "code",
   "execution_count": 11,
   "metadata": {},
   "outputs": [],
   "source": [
    "result_sort = unique_users.sort_values(by = ['count'], ascending=False)"
   ]
  },
  {
   "cell_type": "code",
   "execution_count": 16,
   "metadata": {},
   "outputs": [],
   "source": [
    "result_sort['Profile_url'] ='https://twitter.com/'+result_sort['Screen_Name']"
   ]
  },
  {
   "cell_type": "code",
   "execution_count": 18,
   "metadata": {},
   "outputs": [],
   "source": [
    "result_sort.to_excel('output.xlsx', index = False)"
   ]
  },
  {
   "cell_type": "code",
   "execution_count": 17,
   "metadata": {},
   "outputs": [
    {
     "data": {
      "text/html": [
       "<div>\n",
       "<style scoped>\n",
       "    .dataframe tbody tr th:only-of-type {\n",
       "        vertical-align: middle;\n",
       "    }\n",
       "\n",
       "    .dataframe tbody tr th {\n",
       "        vertical-align: top;\n",
       "    }\n",
       "\n",
       "    .dataframe thead th {\n",
       "        text-align: right;\n",
       "    }\n",
       "</style>\n",
       "<table border=\"1\" class=\"dataframe\">\n",
       "  <thead>\n",
       "    <tr style=\"text-align: right;\">\n",
       "      <th></th>\n",
       "      <th>Screen_Name</th>\n",
       "      <th>count</th>\n",
       "      <th>Profile_url</th>\n",
       "    </tr>\n",
       "  </thead>\n",
       "  <tbody>\n",
       "    <tr>\n",
       "      <th>8778</th>\n",
       "      <td>m_bluesparrow</td>\n",
       "      <td>92</td>\n",
       "      <td>https://twitter.com/m_bluesparrow</td>\n",
       "    </tr>\n",
       "    <tr>\n",
       "      <th>4181</th>\n",
       "      <td>Mohammadslh96</td>\n",
       "      <td>90</td>\n",
       "      <td>https://twitter.com/Mohammadslh96</td>\n",
       "    </tr>\n",
       "    <tr>\n",
       "      <th>6128</th>\n",
       "      <td>Tourajpalesh</td>\n",
       "      <td>86</td>\n",
       "      <td>https://twitter.com/Tourajpalesh</td>\n",
       "    </tr>\n",
       "    <tr>\n",
       "      <th>8129</th>\n",
       "      <td>hoseins51979372</td>\n",
       "      <td>78</td>\n",
       "      <td>https://twitter.com/hoseins51979372</td>\n",
       "    </tr>\n",
       "    <tr>\n",
       "      <th>170</th>\n",
       "      <td>AZ_IBM_7090</td>\n",
       "      <td>77</td>\n",
       "      <td>https://twitter.com/AZ_IBM_7090</td>\n",
       "    </tr>\n",
       "    <tr>\n",
       "      <th>...</th>\n",
       "      <td>...</td>\n",
       "      <td>...</td>\n",
       "      <td>...</td>\n",
       "    </tr>\n",
       "    <tr>\n",
       "      <th>4114</th>\n",
       "      <td>MinhPhngCng2</td>\n",
       "      <td>1</td>\n",
       "      <td>https://twitter.com/MinhPhngCng2</td>\n",
       "    </tr>\n",
       "    <tr>\n",
       "      <th>4113</th>\n",
       "      <td>MinhHanhVo1</td>\n",
       "      <td>1</td>\n",
       "      <td>https://twitter.com/MinhHanhVo1</td>\n",
       "    </tr>\n",
       "    <tr>\n",
       "      <th>4112</th>\n",
       "      <td>MinervalOwls</td>\n",
       "      <td>1</td>\n",
       "      <td>https://twitter.com/MinervalOwls</td>\n",
       "    </tr>\n",
       "    <tr>\n",
       "      <th>4111</th>\n",
       "      <td>Minercoinsx</td>\n",
       "      <td>1</td>\n",
       "      <td>https://twitter.com/Minercoinsx</td>\n",
       "    </tr>\n",
       "    <tr>\n",
       "      <th>10614</th>\n",
       "      <td>zzzuohyy</td>\n",
       "      <td>1</td>\n",
       "      <td>https://twitter.com/zzzuohyy</td>\n",
       "    </tr>\n",
       "  </tbody>\n",
       "</table>\n",
       "<p>10615 rows × 3 columns</p>\n",
       "</div>"
      ],
      "text/plain": [
       "           Screen_Name  count                          Profile_url\n",
       "8778     m_bluesparrow     92    https://twitter.com/m_bluesparrow\n",
       "4181     Mohammadslh96     90    https://twitter.com/Mohammadslh96\n",
       "6128      Tourajpalesh     86     https://twitter.com/Tourajpalesh\n",
       "8129   hoseins51979372     78  https://twitter.com/hoseins51979372\n",
       "170        AZ_IBM_7090     77      https://twitter.com/AZ_IBM_7090\n",
       "...                ...    ...                                  ...\n",
       "4114      MinhPhngCng2      1     https://twitter.com/MinhPhngCng2\n",
       "4113       MinhHanhVo1      1      https://twitter.com/MinhHanhVo1\n",
       "4112      MinervalOwls      1     https://twitter.com/MinervalOwls\n",
       "4111       Minercoinsx      1      https://twitter.com/Minercoinsx\n",
       "10614         zzzuohyy      1         https://twitter.com/zzzuohyy\n",
       "\n",
       "[10615 rows x 3 columns]"
      ]
     },
     "execution_count": 17,
     "metadata": {},
     "output_type": "execute_result"
    }
   ],
   "source": [
    "result_sort"
   ]
  },
  {
   "cell_type": "code",
   "execution_count": null,
   "metadata": {},
   "outputs": [],
   "source": []
  }
 ],
 "metadata": {
  "kernelspec": {
   "display_name": "Python 3",
   "language": "python",
   "name": "python3"
  },
  "language_info": {
   "codemirror_mode": {
    "name": "ipython",
    "version": 3
   },
   "file_extension": ".py",
   "mimetype": "text/x-python",
   "name": "python",
   "nbconvert_exporter": "python",
   "pygments_lexer": "ipython3",
   "version": "3.7.6"
  }
 },
 "nbformat": 4,
 "nbformat_minor": 4
}
