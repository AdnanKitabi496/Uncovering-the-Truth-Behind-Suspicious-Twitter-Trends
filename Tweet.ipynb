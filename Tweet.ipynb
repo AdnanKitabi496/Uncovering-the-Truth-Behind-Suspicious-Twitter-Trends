{
 "cells": [
  {
   "cell_type": "code",
   "execution_count": 13,
   "metadata": {},
   "outputs": [
    {
     "name": "stdout",
     "output_type": "stream",
     "text": [
      "3.10.0\n"
     ]
    }
   ],
   "source": [
    "from credentials import *\n",
    "import tweepy\n",
    "print(tweepy.__version__)"
   ]
  },
  {
   "cell_type": "code",
   "execution_count": 2,
   "metadata": {},
   "outputs": [],
   "source": [
    "## credentials contain:\n",
    "customer_key        = \"oJPfWgPQWoTmmcDV8wt7XQiJm\"\n",
    "customer_secret     = \"4ievAUWvc87v6wgOh7IvqTVtvLnJ6esvvZjfkVTgy62g8MvvHL\"\n",
    "access_token        = \"1480765674532192257-JCXhWc1t7QtEmLBKMtsQ9sqZFhPaqy\"\n",
    "access_token_secret = \"kmBKSuixBf9FimkuAvlbQd372rf4criee246H36MUQdsy\""
   ]
  },
  {
   "cell_type": "code",
   "execution_count": 4,
   "metadata": {},
   "outputs": [],
   "source": [
    "userID = \"VastBlast\""
   ]
  },
  {
   "cell_type": "code",
   "execution_count": 5,
   "metadata": {},
   "outputs": [],
   "source": [
    "auth = tweepy.OAuthHandler(customer_key, customer_secret)\n",
    "auth.set_access_token(access_token, access_token_secret)\n",
    "api = tweepy.API(auth)\n",
    "\n",
    "tweets = api.user_timeline(screen_name=userID, \n",
    "                           # 200 is the maximum allowed count\n",
    "                           count=200,\n",
    "                           include_rts = False,\n",
    "                           # Necessary to keep full_text \n",
    "                           # otherwise only the first 140 words are extracted\n",
    "                           tweet_mode = 'extended'\n",
    "                           )"
   ]
  },
  {
   "cell_type": "code",
   "execution_count": 25,
   "metadata": {},
   "outputs": [
    {
     "name": "stdout",
     "output_type": "stream",
     "text": [
      "N of tweets downloaded till now 389\n",
      "N of tweets downloaded till now 588\n",
      "N of tweets downloaded till now 783\n",
      "N of tweets downloaded till now 980\n",
      "N of tweets downloaded till now 1178\n",
      "N of tweets downloaded till now 1374\n",
      "N of tweets downloaded till now 1567\n",
      "N of tweets downloaded till now 1764\n",
      "N of tweets downloaded till now 1962\n",
      "N of tweets downloaded till now 2161\n",
      "N of tweets downloaded till now 2358\n",
      "N of tweets downloaded till now 2558\n",
      "N of tweets downloaded till now 2757\n",
      "N of tweets downloaded till now 2955\n",
      "N of tweets downloaded till now 3155\n",
      "N of tweets downloaded till now 3182\n"
     ]
    }
   ],
   "source": [
    "all_tweets = []\n",
    "all_tweets.extend(tweets)\n",
    "oldest_id = tweets[-1].id\n",
    "while True:\n",
    "    tweets = api.user_timeline(screen_name=userID, \n",
    "                           # 200 is the maximum allowed count\n",
    "                           count=200,\n",
    "                           include_rts = False,\n",
    "                           max_id = oldest_id - 1,\n",
    "                           # Necessary to keep full_text \n",
    "                           # otherwise only the first 140 words are extracted\n",
    "                           tweet_mode = 'extended'\n",
    "                           )\n",
    "    if len(tweets) == 0:\n",
    "        break\n",
    "    oldest_id = tweets[-1].id\n",
    "    all_tweets.extend(tweets)\n",
    "    print('N of tweets downloaded till now {}'.format(len(all_tweets)))"
   ]
  },
  {
   "cell_type": "code",
   "execution_count": 26,
   "metadata": {},
   "outputs": [
    {
     "data": {
      "text/html": [
       "<div>\n",
       "<style scoped>\n",
       "    .dataframe tbody tr th:only-of-type {\n",
       "        vertical-align: middle;\n",
       "    }\n",
       "\n",
       "    .dataframe tbody tr th {\n",
       "        vertical-align: top;\n",
       "    }\n",
       "\n",
       "    .dataframe thead th {\n",
       "        text-align: right;\n",
       "    }\n",
       "</style>\n",
       "<table border=\"1\" class=\"dataframe\">\n",
       "  <thead>\n",
       "    <tr style=\"text-align: right;\">\n",
       "      <th></th>\n",
       "      <th>id</th>\n",
       "      <th>created_at</th>\n",
       "      <th>favorite_count</th>\n",
       "      <th>retweet_count</th>\n",
       "      <th>text</th>\n",
       "    </tr>\n",
       "  </thead>\n",
       "  <tbody>\n",
       "    <tr>\n",
       "      <th>0</th>\n",
       "      <td>1481757976159531014</td>\n",
       "      <td>2022-01-13 22:40:05+00:00</td>\n",
       "      <td>8</td>\n",
       "      <td>0</td>\n",
       "      <td>@Foolsihh Yep, but if you actually think about...</td>\n",
       "    </tr>\n",
       "    <tr>\n",
       "      <th>1</th>\n",
       "      <td>1481751182972489728</td>\n",
       "      <td>2022-01-13 22:13:06+00:00</td>\n",
       "      <td>259</td>\n",
       "      <td>47</td>\n",
       "      <td>People argue that Bitcoin \"comes out of thin a...</td>\n",
       "    </tr>\n",
       "    <tr>\n",
       "      <th>2</th>\n",
       "      <td>1479564736752766977</td>\n",
       "      <td>2022-01-07 21:24:56+00:00</td>\n",
       "      <td>2047</td>\n",
       "      <td>421</td>\n",
       "      <td>You can only choose ONE 🐕\\n\\n#Shib\\n$Floki\\n$D...</td>\n",
       "    </tr>\n",
       "  </tbody>\n",
       "</table>\n",
       "</div>"
      ],
      "text/plain": [
       "                    id                created_at  favorite_count  \\\n",
       "0  1481757976159531014 2022-01-13 22:40:05+00:00               8   \n",
       "1  1481751182972489728 2022-01-13 22:13:06+00:00             259   \n",
       "2  1479564736752766977 2022-01-07 21:24:56+00:00            2047   \n",
       "\n",
       "   retweet_count                                               text  \n",
       "0              0  @Foolsihh Yep, but if you actually think about...  \n",
       "1             47  People argue that Bitcoin \"comes out of thin a...  \n",
       "2            421  You can only choose ONE 🐕\\n\\n#Shib\\n$Floki\\n$D...  "
      ]
     },
     "execution_count": 26,
     "metadata": {},
     "output_type": "execute_result"
    }
   ],
   "source": [
    "#transform the tweepy tweets into a 2D array that will populate the csv\t\n",
    "from pandas import DataFrame\n",
    "outtweets = [[tweet.id_str, \n",
    "              tweet.created_at, \n",
    "              tweet.favorite_count, \n",
    "              tweet.retweet_count, \n",
    "              tweet.full_text.encode(\"utf-8\").decode(\"utf-8\")] \n",
    "             for idx,tweet in enumerate(all_tweets)]\n",
    "df = DataFrame(outtweets,columns=[\"id\",\"created_at\",\"favorite_count\",\"retweet_count\", \"text\"])\n",
    "df.to_csv('%s_tweets.csv' % userID,index=False)\n",
    "df.head(3)"
   ]
  },
  {
   "cell_type": "code",
   "execution_count": 27,
   "metadata": {},
   "outputs": [],
   "source": [
    "import datetime as dt\n",
    "import pandas as pd\n",
    "\n",
    "data = pd.read_csv('WatcherGuru_tweets.csv')\n"
   ]
  },
  {
   "cell_type": "code",
   "execution_count": 34,
   "metadata": {},
   "outputs": [],
   "source": [
    "data['created_at'] = pd.to_datetime(data['created_at'])\n",
    "filtered_df = data.loc[(data['created_at'] >= '2022-01-06')]\n",
    "\n",
    "id_list = filtered_df['id'].to_list()"
   ]
  },
  {
   "cell_type": "code",
   "execution_count": 22,
   "metadata": {
    "scrolled": true
   },
   "outputs": [],
   "source": [
    "# update these for whatever tweet you want to process replies to\n",
    "name = 'WatcherGuru'\n",
    "tweet_id = '1481554511466540000'\n",
    "\n",
    "replies=[]\n",
    "for tweet in tweepy.Cursor(api.search,q='to:'+name, result_type='recent', timeout=999999).items(1000):\n",
    "    if hasattr(tweet, 'in_reply_to_status_id_str'):\n",
    "        if (tweet.in_reply_to_status_id_str==tweet_id):\n",
    "            replies.append(tweet)\n",
    "\n",
    "with open('replies_clean.csv', 'w') as f:\n",
    "    csv_writer = csv.DictWriter(f, fieldnames=('user', 'text'))\n",
    "    csv_writer.writeheader()\n",
    "    for tweet in replies:\n",
    "        row = {'user': tweet.user.screen_name, 'text': tweet.text.replace('\\n', ' ')}\n",
    "        csv_writer.writerow(row)\n",
    "\n"
   ]
  },
  {
   "cell_type": "code",
   "execution_count": 20,
   "metadata": {},
   "outputs": [
    {
     "data": {
      "text/plain": [
       "[]"
      ]
     },
     "execution_count": 20,
     "metadata": {},
     "output_type": "execute_result"
    }
   ],
   "source": [
    "replies"
   ]
  },
  {
   "cell_type": "code",
   "execution_count": 10,
   "metadata": {},
   "outputs": [],
   "source": [
    "import csv\n",
    "\n",
    "with open('replies_clean.csv', 'w') as f:\n",
    "    csv_writer = csv.DictWriter(f, fieldnames=('user', 'text'))\n",
    "    csv_writer.writeheader()\n",
    "    for tweet in replies:\n",
    "        row = {'user': tweet.user.screen_name, 'text': tweet.text.replace('\\n', ' ')}\n",
    "        csv_writer.writerow(row)"
   ]
  },
  {
   "cell_type": "code",
   "execution_count": null,
   "metadata": {},
   "outputs": [],
   "source": []
  }
 ],
 "metadata": {
  "kernelspec": {
   "display_name": "Python 3",
   "language": "python",
   "name": "python3"
  },
  "language_info": {
   "codemirror_mode": {
    "name": "ipython",
    "version": 3
   },
   "file_extension": ".py",
   "mimetype": "text/x-python",
   "name": "python",
   "nbconvert_exporter": "python",
   "pygments_lexer": "ipython3",
   "version": "3.7.6"
  }
 },
 "nbformat": 4,
 "nbformat_minor": 4
}
